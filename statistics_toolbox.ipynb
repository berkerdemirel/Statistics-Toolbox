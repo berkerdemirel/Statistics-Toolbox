{
  "nbformat": 4,
  "nbformat_minor": 0,
  "metadata": {
    "colab": {
      "name": "ens_505_term_project.ipynb",
      "provenance": [],
      "collapsed_sections": []
    },
    "kernelspec": {
      "name": "python3",
      "display_name": "Python 3"
    },
    "language_info": {
      "name": "python"
    }
  },
  "cells": [
    {
      "cell_type": "markdown",
      "metadata": {
        "id": "9LbpBzvATekU"
      },
      "source": [
        "ANOVA"
      ]
    },
    {
      "cell_type": "code",
      "metadata": {
        "colab": {
          "base_uri": "https://localhost:8080/"
        },
        "id": "VvftWxAw_GdO",
        "outputId": "fe661f76-940f-4b0b-bcb0-c443e1e1480d"
      },
      "source": [
        "import numpy as np\n",
        "\n",
        "def means(X):\n",
        "    res = [];\n",
        "    for i in range(len(X)):\n",
        "        res.append(np.mean(X[i]))\n",
        "    return res\n",
        "\n",
        "def ANOVA1_partition_TSS(X, silent = True):\n",
        "    within_means= means(X)\n",
        "    x_bar = np.mean(within_means)\n",
        "    sst = 0\n",
        "    ssw = 0\n",
        "    ssb = 0\n",
        "    I = len(X);\n",
        "    for i in range(I):\n",
        "        n_i = len(X[i])\n",
        "        for j in range(n_i):\n",
        "            sst = sst + (X[i][j] - x_bar)**2\n",
        "            ssw = ssw + (X[i][j] - within_means[i])**2\n",
        "        ssb = ssb + n_i * (within_means[i] - x_bar)**2\n",
        "    if not silent:\n",
        "        print(sst)\n",
        "        print(ssw + ssb)\n",
        "        print(ssw)\n",
        "        print(ssb)\n",
        "    return [sst, ssw, ssb]\n",
        "    \n",
        "X = [[1,1,1,1,2], [1,1,1], [1,1,1,5,5], [1,1,1,1,2,1,1,1,1]];\n",
        "n=0\n",
        "n_is = []\n",
        "for i in range(len(X)):\n",
        "    n_is.append(len(X[i]))\n",
        "    n += len(X[i])\n",
        "a,b,c = ANOVA1_partition_TSS(X, False);\n"
      ],
      "execution_count": 1,
      "outputs": [
        {
          "output_type": "stream",
          "text": [
            "29.466419753086416\n",
            "29.466419753086413\n",
            "20.888888888888882\n",
            "8.577530864197533\n"
          ],
          "name": "stdout"
        }
      ]
    },
    {
      "cell_type": "code",
      "metadata": {
        "colab": {
          "base_uri": "https://localhost:8080/"
        },
        "id": "aQex0Ve6_zIu",
        "outputId": "86c7677b-ba80-4d78-d06b-59d16ef05b25"
      },
      "source": [
        "from scipy import stats\n",
        "from tabulate import tabulate\n",
        "\n",
        "def ANOVA1_test_equality(X, alpha, n):\n",
        "    sst, ssw, ssb = ANOVA1_partition_TSS(X)\n",
        "    I = len(X)\n",
        "    p_value = 1-stats.f.cdf((ssb/(I-1))/(ssw/(n-I)), I-1, n-I)\n",
        "    print('P-value is {}'.format(p_value))\n",
        "    f_statistic = (ssb/(I-1))/(ssw/(n-I))\n",
        "    crit_value = stats.f.ppf(1-alpha, I-1, n-I)\n",
        "\n",
        "    print('f-statistic is {}'.format(f_statistic))\n",
        "    print('Critical value is {}'.format(crit_value)) \n",
        "\n",
        "    if p_value < alpha:\n",
        "        print(\"Null hypothesis is rejected\")\n",
        "    else:\n",
        "        print(\"Null hypothesis has not been rejected\\n\")\n",
        "\n",
        "    print(tabulate([\n",
        "                    ['Between groups', I-1, ssb, ssb/(I-1), (ssb/(I-1))/(ssw/(n-I))],\n",
        "                    ['Within groups', n-I, ssw, ssw/(n-I)],\n",
        "                    ['Total', n-1, sst]], \n",
        "                    headers=['Source', 'DF', 'SS', 'MS', 'F'], tablefmt='orgtbl'))\n",
        "\n",
        "ANOVA1_test_equality(X, 0.05, n)"
      ],
      "execution_count": 2,
      "outputs": [
        {
          "output_type": "stream",
          "text": [
            "P-value is 0.09552454602798377\n",
            "f-statistic is 2.4637588652482285\n",
            "Critical value is 3.1599075898007243\n",
            "Null hypothesis has not been rejected\n",
            "\n",
            "| Source         |   DF |       SS |      MS |       F |\n",
            "|----------------+------+----------+---------+---------|\n",
            "| Between groups |    3 |  8.57753 | 2.85918 | 2.46376 |\n",
            "| Within groups  |   18 | 20.8889  | 1.16049 |         |\n",
            "| Total          |   21 | 29.4664  |         |         |\n"
          ],
          "name": "stdout"
        }
      ]
    },
    {
      "cell_type": "code",
      "metadata": {
        "colab": {
          "base_uri": "https://localhost:8080/"
        },
        "id": "rZCW-6OQA23f",
        "outputId": "1f9fc4a3-0de7-4187-ac16-acbba8bf7e8e"
      },
      "source": [
        "def ANOVA1_is_contrast(c, I, silent=True):\n",
        "    if len(c) != I:\n",
        "        print(\"Dimension mismatch\")\n",
        "    sum = np.sum(c)\n",
        "    if sum == 0:\n",
        "        if not silent:\n",
        "            print(\"it is a contrast\")\n",
        "        return True\n",
        "    else:\n",
        "        if not silent:\n",
        "            print(\"it is not a contrast\")\n",
        "        return False\n",
        "\n",
        "c_example = [1,-1,0,0]\n",
        "ANOVA1_is_contrast(c_example, len(X))"
      ],
      "execution_count": 3,
      "outputs": [
        {
          "output_type": "execute_result",
          "data": {
            "text/plain": [
              "True"
            ]
          },
          "metadata": {
            "tags": []
          },
          "execution_count": 3
        }
      ]
    },
    {
      "cell_type": "code",
      "metadata": {
        "colab": {
          "base_uri": "https://localhost:8080/"
        },
        "id": "KeekvxocVbEH",
        "outputId": "d9619932-d3e6-4ab6-bffe-4323bea33900"
      },
      "source": [
        "def ANOVA1_is_orthogonal(c1, c2, n_is, silent=True):\n",
        "    if not (ANOVA1_is_contrast(c1, len(n_is)) and ANOVA1_is_contrast(c2,len(n_is))):\n",
        "        print(\"Warning: At least one of the given vectors is not a contrast\")\n",
        "    I = len(c1)\n",
        "    inner_prod = 0\n",
        "    for i in range(I):\n",
        "        inner_prod += c1[i]*c2[i]/n_is[i]\n",
        "    \n",
        "    if inner_prod == 0:\n",
        "        if not silent:\n",
        "            print(\"They are orthogonal\")\n",
        "        return True\n",
        "    else:\n",
        "        if not silent:\n",
        "            print(\"They are not orthogonal\")\n",
        "        return False\n",
        "\n",
        "c1 = [1,-1,0,0]\n",
        "c2 = [0,0,1,-1]\n",
        "\n",
        "ANOVA1_is_orthogonal(c1,c2,n_is)\n"
      ],
      "execution_count": 6,
      "outputs": [
        {
          "output_type": "execute_result",
          "data": {
            "text/plain": [
              "True"
            ]
          },
          "metadata": {
            "tags": []
          },
          "execution_count": 6
        }
      ]
    },
    {
      "cell_type": "code",
      "metadata": {
        "colab": {
          "base_uri": "https://localhost:8080/"
        },
        "id": "UWdsyRi_XVUD",
        "outputId": "ff2ad319-8e7d-4271-e949-c83173fcb66d"
      },
      "source": [
        "def Bonferroni_correction(fwer_alpha, m, silent=True):\n",
        "    if not silent:\n",
        "        print(\"The significance level that each test must have with Bonferroni correction is\", fwer_alpha/m)\n",
        "    return fwer_alpha/m\n",
        "\n",
        "Bonferroni_correction(0.05, 4)\n"
      ],
      "execution_count": 7,
      "outputs": [
        {
          "output_type": "execute_result",
          "data": {
            "text/plain": [
              "0.0125"
            ]
          },
          "metadata": {
            "tags": []
          },
          "execution_count": 7
        }
      ]
    },
    {
      "cell_type": "code",
      "metadata": {
        "colab": {
          "base_uri": "https://localhost:8080/"
        },
        "id": "Pvo7CEwJYKis",
        "outputId": "9efe3db8-d1ad-4a48-acdf-972cc4b022f5"
      },
      "source": [
        "def Sidak_correction(fwer_alpha, m, silent=True):\n",
        "    if not silent:\n",
        "        print(\"The significance level that each test must have with Sidak correction is\", 1-(1-fwer_alpha)**(1/m))\n",
        "    return 1-(1-fwer_alpha)**(1/m)\n",
        "\n",
        "Sidak_correction(0.05, 4)\n"
      ],
      "execution_count": 8,
      "outputs": [
        {
          "output_type": "execute_result",
          "data": {
            "text/plain": [
              "0.012741455098566168"
            ]
          },
          "metadata": {
            "tags": []
          },
          "execution_count": 8
        }
      ]
    },
    {
      "cell_type": "code",
      "metadata": {
        "colab": {
          "base_uri": "https://localhost:8080/"
        },
        "id": "ru9uNTjSYqFn",
        "outputId": "c19145ed-995b-4996-9f49-d295195a10eb"
      },
      "source": [
        "import math\n",
        "from statsmodels.stats.libqsturng import psturng, qsturng\n",
        "\n",
        "def is_pairwise_diff(C, I):\n",
        "    if len(set(n_is)) != 1:\n",
        "        return False\n",
        "    if len(C) > I*(I-1)/2:\n",
        "        return False\n",
        "    else:\n",
        "        for linear_com in C:\n",
        "            if sum(linear_com) != 0:\n",
        "                return False\n",
        "            count_neg_ones = 0\n",
        "            count_ones = 0\n",
        "            for el in linear_com:\n",
        "                if el == -1:\n",
        "                    count_neg_ones += 1\n",
        "                elif el == 1:\n",
        "                    count_ones += 1\n",
        "                elif el != 0:\n",
        "                    return False\n",
        "            if not (count_neg_ones == 1 and count_ones == 1):\n",
        "                return False\n",
        "        return True \n",
        "\n",
        "# example qsturng(1-0.05, 10, 20)\n",
        "\n",
        "def ANOVA1_CI_linear_combs(X, n_is, n, alpha, C, method, silent=True):\n",
        "    I = len(X)\n",
        "    all_contrasts = True\n",
        "    for i in range(len(C)):\n",
        "        all_contrasts = (all_contrasts and ANOVA1_is_contrast(C[i], I))\n",
        "\n",
        "    all_orthogonal = True\n",
        "    for i in range(len(C)): # look all pairwise orthogonality\n",
        "        for j in range(len(C)):\n",
        "            if i != j:\n",
        "                all_orthogonal = (all_orthogonal and ANOVA1_is_orthogonal(C[i], C[j], n_is))\n",
        "\n",
        "    all_pairwise_diff = is_pairwise_diff(C, I)\n",
        "    #if not silent:\n",
        "    #    print(\"All orthogonal\", all_orthogonal)\n",
        "    #    print(\"All contrasts\", all_contrasts)\n",
        "    sst, ssw, ssb = ANOVA1_partition_TSS(X)\n",
        "    x_bar_is = means(X)\n",
        "\n",
        "    squared_terms = []\n",
        "    for m in range(len(C)):\n",
        "        squared_term = 0\n",
        "        for i in range(I):\n",
        "            squared_term += C[m][i]**2/len(X[i]) \n",
        "        squared_term *= ssw/(n-I)\n",
        "        squared_terms.append(squared_term**(1/2))\n",
        "    \n",
        "    if method == \"scheffe\":\n",
        "        CIs= []\n",
        "        if all_contrasts:\n",
        "            # theorem 2.8 (scheffe's theorem for all contrasts)\n",
        "            M_val = ((I-1) * stats.f.ppf(1-alpha, I-1, n-I))**(1/2)\n",
        "            for j in range(len(C)): # m-ary CI\n",
        "                sum = 0\n",
        "                for i in range(I):\n",
        "                    sum += C[j][i]*x_bar_is[i]\n",
        "                #print(sum)\n",
        "                #print(M_val)\n",
        "                #print(squared_terms[j])\n",
        "                CI = [sum - M_val * squared_terms[j], sum + M_val * squared_terms[j]]\n",
        "                CIs.append(CI)\n",
        "\n",
        "        else:\n",
        "            # theorem 2.7 (scheffe's theorem for all linear combinations)\n",
        "            M_val = ((I-1) * stats.f.ppf(1-alpha, I, n-I))**(1/2)\n",
        "            for j in range(len(C)): # m-ary CI\n",
        "                sum = 0\n",
        "                for i in range(I):\n",
        "                    sum += C[j][i]*x_bar_is[i]\n",
        "                CI = [sum - M_val * squared_terms[j], sum + M_val * squared_terms[j]]\n",
        "                CIs.append(CI)\n",
        "        if not silent:\n",
        "            print(\"Confidence interval with {0} is {1}\".format(method, CIs))\n",
        "        return CIs\n",
        "        \n",
        "\n",
        "    elif method == \"tukey\":\n",
        "        # check if all linear combs are pairwise differences (and also check n_i s are equal)\n",
        "        if all_pairwise_diff:\n",
        "            pair_differences = np.dot(C, np.transpose(x_bar_is))\n",
        "            CIs = []\n",
        "            # std_rng_statistic = np.max(pair_differences)\n",
        "            sqrd_term = (ssw/((n-I)*len(X[0])))**(1/2)\n",
        "            q = qsturng(1-alpha, I, n-I)\n",
        "            print(sqrd_term)\n",
        "            print(q)\n",
        "            for pair_diff in pair_differences:\n",
        "                CI = [pair_diff - q*sqrd_term, pair_diff + q*sqrd_term]\n",
        "                CIs.append(CI)\n",
        "            if not silent:\n",
        "                print(\"Confidence interval with {0} is {1}\".format(method, CIs))\n",
        "            return CIs\n",
        "        else:\n",
        "            print(\"Given linear combinations do not consist of pairwise differences\")\n",
        "            \n",
        "    elif method == \"bonferroni\":\n",
        "        CIs = []\n",
        "        b_alpha = Bonferroni_correction(alpha, len(C))\n",
        "        t_val = stats.t.ppf(1-b_alpha, n-I)\n",
        "        \n",
        "        for j in range(len(C)): # m-ary CI\n",
        "            sum = 0\n",
        "            for i in range(I):\n",
        "                sum += C[j][i]*x_bar_is[i]\n",
        "            CI = [sum - t_val * squared_terms[j], sum + t_val * squared_terms[j]]\n",
        "            CIs.append(CI)\n",
        "        if not silent:\n",
        "            print(\"Confidence interval with {0} is {1}\".format(method, CIs))\n",
        "        return CIs\n",
        "        \n",
        "    elif method == \"sidak\":\n",
        "        if all_contrasts and all_orthogonal:\n",
        "            CIs = []\n",
        "            s_alpha = Sidak_correction(alpha, len(C))\n",
        "            t_val = stats.t.ppf(1-s_alpha, n-I)\n",
        "            for j in range(len(C)): # m-ary CI\n",
        "                sum = 0\n",
        "                for i in range(I):\n",
        "                    sum += C[j][i]*x_bar_is[i]\n",
        "                CI = [sum - t_val * squared_terms[j], sum + t_val * squared_terms[j]]\n",
        "                CIs.append(CI)\n",
        "            if not silent:\n",
        "                print(\"Simultaneous Confidence intervals with {0} is {1}\".format(method, CIs))\n",
        "            return CIs\n",
        "        else:\n",
        "            print(\"We cannot use Sidak's method if given linear combinations are not orthogonal contrasts\")\n",
        "    elif method == \"best\":\n",
        "        if all_contrasts and all_orthogonal:\n",
        "            # compare sidak with thm 2.8(scheffe contrast)\n",
        "            schf_CIs = np.array(ANOVA1_CI_linear_combs(X, n_is, n, alpha, C, \"scheffe\"))\n",
        "            sdk_CIs = np.array(ANOVA1_CI_linear_combs(X, n_is, n, alpha, C, \"sidak\"))\n",
        "            if np.sum(sdk_CIs[:,0]-sdk_CIs[:,0]) > np.sum(schf_CIs[:,1] - schf_CIs[:,0]):\n",
        "                if not silent:\n",
        "                    print(\"Best confidence interval is with scheffe contrast: {0}\".format(schf_CIs))\n",
        "                return schf_CIs\n",
        "            else:\n",
        "                if not silent:\n",
        "                    print(\"Best confidence interval is with sidak: {0}\".format(sdk_CIs))\n",
        "                return sdk_CIs\n",
        "\n",
        "        elif all_contrasts and not all_orthogonal:\n",
        "            # compare bonferroni with thm 2.8 (scheffe contrast)\n",
        "            schf_CIs = np.array(ANOVA1_CI_linear_combs(X, n_is, n, alpha, C, \"scheffe\"))\n",
        "            bnf_CIs = np.array(ANOVA1_CI_linear_combs(X, n_is, n, alpha, C, \"bonferroni\"))\n",
        "            if np.sum(schf_CIs[:,1] - schf_CIs[:,0]) < np.sum(bnf_CIs[:,1] - bnf_CIs[:,0]):\n",
        "                if not silent:\n",
        "                    print(\"Best confidence interval is with scheffe contrast: {0}\".format(schf_CIs))\n",
        "                return schf_CIs\n",
        "            else:\n",
        "                if not silent:\n",
        "                    print(\"Best confidence interval is with bonferroni: {0}\".format(bnf_CIs))\n",
        "                return bnf_CIs\n",
        "\n",
        "        elif all_pairwise_diff and all_orthogonal:\n",
        "            # compare sidak with tukey\n",
        "            tky_CIs = np.array(ANOVA1_CI_linear_combs(X, n_is, n, alpha, C, \"tukey\"))\n",
        "            sdk_CIs = np.array(ANOVA1_CI_linear_combs(X, n_is, n, alpha, C, \"sidak\"))\n",
        "            if np.sum(tky_CIs[:,1] - tky_CIs[:,0]) < np.sum(sdk_CIs[:,1] - sdk_CIs[:,0]):\n",
        "                if not silent:\n",
        "                    print(\"Best confidence interval is with tukey: {0}\".format(tky_CIs))\n",
        "                return tky_CIs\n",
        "            else:\n",
        "                if not silent:\n",
        "                    print(\"Best confidence interval is with sidak: [{0}, {1}]\".format(sdk_CIs))\n",
        "                return sdk_CIs\n",
        "\n",
        "        elif all_pairwise_diff and not all_orthogonal:\n",
        "            # compare bonferroni with tukey\n",
        "            tky_CIs = np.array(ANOVA1_CI_linear_combs(X, n_is, n, alpha, C, \"tukey\"))\n",
        "            bnf_CIs = np.array(ANOVA1_CI_linear_combs(X, n_is, n, alpha, C, \"bonferroni\"))\n",
        "            if np.sum(tky_CIs[:,1] - tky_CIs[:,0]) < np.sum(bnf_CIs[:,1] - bnf_CIs[:,0]):\n",
        "                if not silent:\n",
        "                    print(\"Best confidence interval is with tukey: {0}\".format(tky_CIs))\n",
        "                return tky_CIs\n",
        "            else:\n",
        "                if not silent:\n",
        "                    print(\"Best confidence interval is with bonferroni: [{0}, {1}]\".format(bnf_CIs))\n",
        "                return bnf_CIs\n",
        "        else:\n",
        "            # compare bonferroni with thm 2.7 (scheffe linaer combs)\n",
        "            schf_CIs = np.array(ANOVA1_CI_linear_combs(X, n_is, n, alpha, C, \"scheffe\"))\n",
        "            bnf_CIs = np.array(ANOVA1_CI_linear_combs(X, n_is, n, alpha, C, \"bonferroni\"))\n",
        "            if np.sum(schf_CIs[:,1] - schf_CIs[:,0]) < np.sum(sdk_CIs[:,1] - sdk_CIs[:,0]):\n",
        "                if not silent:\n",
        "                    print(\"Best confidence interval is with scheffe linear combs: {0}\".format(schf_CIs))\n",
        "                return schf_CIs\n",
        "            else:\n",
        "                if not silent:\n",
        "                    print(\"Best confidence interval is with bonferroni: {0}\".format(bnf_CIs))\n",
        "                return bnf_CIs\n",
        "    else:\n",
        "        print(\"Not implemented error\")\n",
        "        return -1e6, 1e6\n",
        "\n",
        "C= [c1, c2]\n",
        "print(\"Scheffe:\",ANOVA1_CI_linear_combs(X, n_is, n, 0.1, C, \"scheffe\", True))\n",
        "print(\"Bonferroni:\",ANOVA1_CI_linear_combs(X, n_is, n, 0.1, C, \"bonferroni\", True))\n",
        "print(\"Sidak:\",ANOVA1_CI_linear_combs(X, n_is, n, 0.1, C, \"sidak\", True))\n",
        "print(\"Tukey:\",ANOVA1_CI_linear_combs(X, n_is, n, 0.1, C, \"tukey\", True))\n",
        "print(\"Best:\",ANOVA1_CI_linear_combs(X, n_is, n, 0.1, C, \"best\", True))"
      ],
      "execution_count": 9,
      "outputs": [
        {
          "output_type": "stream",
          "text": [
            "Scheffe: [[-1.9180214641411217, 2.318021464141122], [-0.1287767249390923, 3.10655450271687]]\n",
            "Bonferroni: [[-1.1642243751318286, 1.5642243751318285], [0.44694531156464956, 2.5308324662131283]]\n",
            "Sidak: [[-1.1529289484907017, 1.5529289484907016], [0.4555723361629471, 2.5222054416148305]]\n",
            "Given linear combinations do not consist of pairwise differences\n",
            "Tukey: None\n",
            "Best: [[-1.15292895  1.55292895]\n",
            " [ 0.45557234  2.52220544]]\n"
          ],
          "name": "stdout"
        },
        {
          "output_type": "stream",
          "text": [
            "/usr/local/lib/python3.7/dist-packages/statsmodels/tools/_testing.py:19: FutureWarning: pandas.util.testing is deprecated. Use the functions in the public API at pandas.testing instead.\n",
            "  import pandas.util.testing as tm\n"
          ],
          "name": "stderr"
        }
      ]
    },
    {
      "cell_type": "code",
      "metadata": {
        "id": "mJtS_bxxbYeQ",
        "colab": {
          "base_uri": "https://localhost:8080/"
        },
        "outputId": "adca7411-a5bb-4722-992e-de068c92d752"
      },
      "source": [
        "def ANOVA1_test_linear_combs(X, n_is, n, alpha, C, d, method, silent=True):\n",
        "    CIs = ANOVA1_CI_linear_combs(X, n_is, n, alpha, C, method)\n",
        "    for i in range(len(C)):\n",
        "        el = d[i]\n",
        "        #print(CIs, i)\n",
        "        if CIs[i][0] < el and el < CIs[i][1]:\n",
        "            print(\"We do not reject H0 for linear comb {}\".format(i+1))\n",
        "        else:\n",
        "            print(\"We reject H0 for linear comb {}\".format(i+1))\n",
        "\n",
        "d = [2]*len(C)\n",
        "ANOVA1_test_linear_combs(X, n_is, n, 0.1, C, d, \"best\", False)\n"
      ],
      "execution_count": 10,
      "outputs": [
        {
          "output_type": "stream",
          "text": [
            "We reject H0 for linear comb 1\n",
            "We do not reject H0 for linear comb 2\n"
          ],
          "name": "stdout"
        }
      ]
    },
    {
      "cell_type": "code",
      "metadata": {
        "colab": {
          "base_uri": "https://localhost:8080/"
        },
        "id": "-ewBuQMXKcrf",
        "outputId": "8825e2b5-4beb-492b-b1a6-7c748e3e67af"
      },
      "source": [
        "def ANOVA2_partition_TSS(X):\n",
        "    I, J, K = np.shape(X)\n",
        "    x_bar_ij = np.zeros(shape=(I, J))\n",
        "    x_bar_i = np.zeros(shape=(I))\n",
        "    x_bar_j = np.zeros(shape=(J))\n",
        "    x_bar = 0\n",
        "    for i in range(I):\n",
        "        res_i = 0\n",
        "        for j in range(J):\n",
        "            res_ij = 0\n",
        "            for k in range(K):\n",
        "                res_ij += X[i][j][k]\n",
        "                res_i += X[i][j][k]\n",
        "                x_bar += X[i][j][k]\n",
        "            res_ij /= K\n",
        "            x_bar_ij[i][j] = res_ij\n",
        "        res_i /= (J*K)\n",
        "        x_bar_i[i] = res_i\n",
        "    x_bar /= (I*J*K)\n",
        "    for j in range(J):\n",
        "        res_j = 0\n",
        "        for i in range(I):\n",
        "            for k in range(K):\n",
        "                res_j += X[i][j][k]\n",
        "        res_j /= (I*K)\n",
        "        x_bar_j[j] = res_j\n",
        "        \n",
        "    sst = ssa = ssb = ssab = sse = 0\n",
        "    for i in range(I):\n",
        "        for j in range(J):\n",
        "            ssab += (x_bar_ij[i][j] - x_bar_i[i] - x_bar_j[j] + x_bar)**2\n",
        "            for k in range(K):\n",
        "                sst += (X[i][j][k] - x_bar)**2\n",
        "                sse += (X[i][j][k] - x_bar_ij[i][j])**2\n",
        "\n",
        "    ssab *= K\n",
        "    for i in range(I):\n",
        "        ssa += (x_bar_i[i] - x_bar)**(2)\n",
        "    ssa *= (J*K)\n",
        "    for j in range(J):\n",
        "        ssb += (x_bar_j[j] - x_bar)**(2)\n",
        "    ssb *= (I*K)\n",
        "    return sst, ssa, ssb, ssab, sse, x_bar, x_bar_i, x_bar_j, x_bar_ij\n",
        "\n",
        "\n",
        "# testing\n",
        "# X = np.random.randint(0, 100, size=(30, 10, 5))\n",
        "X = [[[8,7,7,6],[5, 6, 6, 4]],[[13,15,14,15],[12, 14, 13, 14]]]\n",
        "sst, ssa, ssb, ssab, sse, _, _, _, _ = ANOVA2_partition_TSS(X)\n",
        "print(sst, ssa, ssb, ssab, sse)\n",
        "print(sst, ssa+ssb+ssab+sse)"
      ],
      "execution_count": 12,
      "outputs": [
        {
          "output_type": "stream",
          "text": [
            "250.9375 232.5625 7.5625 0.5625 10.25\n",
            "250.9375 250.9375\n"
          ],
          "name": "stdout"
        }
      ]
    },
    {
      "cell_type": "code",
      "metadata": {
        "colab": {
          "base_uri": "https://localhost:8080/"
        },
        "id": "9LiUNoFSKrL9",
        "outputId": "05b10026-9832-4224-d802-9f44f1737a85"
      },
      "source": [
        "def ANOVA2_MLE(X):\n",
        "    I, J, K = np.shape(X)\n",
        "    _, _, _, _, _, x_bar, x_bar_i, x_bar_j, x_bar_ij = ANOVA2_partition_TSS(X)\n",
        "    mu = x_bar\n",
        "    ais = x_bar_i - x_bar\n",
        "    bjs = x_bar_j - x_bar\n",
        "    dijs = np.zeros(shape=(I, J))\n",
        "    for i in range(I):\n",
        "        for j in range(J):\n",
        "            dijs[i][j] = x_bar_ij[i][j] - x_bar_i[i] - x_bar_j[j] + x_bar\n",
        "    return x_bar, ais, bjs, dijs\n",
        "\n",
        "xb, ai, bi, dij = ANOVA2_MLE(X)\n",
        "print(xb)\n",
        "print(ai)\n",
        "print(bi)\n",
        "print(dij)\n"
      ],
      "execution_count": 13,
      "outputs": [
        {
          "output_type": "stream",
          "text": [
            "9.9375\n",
            "[-3.8125  3.8125]\n",
            "[ 0.6875 -0.6875]\n",
            "[[ 0.1875 -0.1875]\n",
            " [-0.1875  0.1875]]\n"
          ],
          "name": "stdout"
        }
      ]
    },
    {
      "cell_type": "code",
      "metadata": {
        "colab": {
          "base_uri": "https://localhost:8080/"
        },
        "id": "NKfT5d_ES1XH",
        "outputId": "23edccc6-ceee-4181-a040-39a81fdddb6e"
      },
      "source": [
        "def ANOVA2_test_equality(X, alpha, choice):\n",
        "    sst, ssa, ssb, ssab, sse, _, _, _, _ = ANOVA2_partition_TSS(X)\n",
        "    I,J,K = np.shape(X)\n",
        "    dof_within = I*J*(K-1)\n",
        "    if choice == \"A\":\n",
        "        dof_a = I-1\n",
        "        f_statistic = (ssa/dof_a)/(sse/dof_within)\n",
        "        p_value = 1-stats.f.cdf(f_statistic, dof_a, dof_within)\n",
        "        crit_value = stats.f.ppf(1-alpha, dof_a, dof_within)\n",
        "\n",
        "        print('P-value is {}'.format(p_value))\n",
        "        print('f-statistic is {}'.format(f_statistic))\n",
        "        print('Critical value is {}'.format(crit_value)) \n",
        "        if p_value < alpha:\n",
        "            print(\"Null hypothesis is rejected\")\n",
        "        else:\n",
        "            print(\"Null hypothesis has not been rejected\\n\")\n",
        "\n",
        "        print(tabulate([\n",
        "                    ['A', dof_a, ssa, ssa/dof_a, f_statistic],\n",
        "                    ['Within', dof_within, sse, sse/dof_within]],\n",
        "                    headers=['Source', 'degrees of freedom', 'SS', 'MS', 'F'], tablefmt='orgtbl'))\n",
        "        \n",
        "    elif choice == \"B\":\n",
        "        dof_b = J-1\n",
        "        f_statistic = (ssb/dof_b)/(sse/dof_within)\n",
        "        p_value = 1-stats.f.cdf(f_statistic, dof_b, dof_within)\n",
        "        crit_value = stats.f.ppf(1-alpha, dof_b, dof_within)\n",
        "\n",
        "        print('P-value is {}'.format(p_value))\n",
        "        print('f-statistic is {}'.format(f_statistic))\n",
        "        print('Critical value is {}'.format(crit_value)) \n",
        "        if p_value < alpha:\n",
        "            print(\"Null hypothesis is rejected\")\n",
        "        else:\n",
        "            print(\"Null hypothesis has not been rejected\\n\")\n",
        "\n",
        "        print(tabulate([\n",
        "                    ['B', dof_b, ssb, ssb/dof_b, f_statistic],\n",
        "                    ['Within', dof_within, sse, sse/dof_within]],\n",
        "                    headers=['Source', 'degrees of freedom', 'SS', 'MS', 'F'], tablefmt='orgtbl'))\n",
        "\n",
        "    elif choice == \"AB\":\n",
        "        dof_ab = (I-1)*(J-1)\n",
        "        f_statistic = (ssab/dof_ab)/(sse/dof_within)\n",
        "        p_value = 1-stats.f.cdf(f_statistic, dof_ab, dof_within)\n",
        "        crit_value = stats.f.ppf(1-alpha, dof_ab, dof_within)\n",
        "\n",
        "        print('P-value is {}'.format(p_value))\n",
        "        print('f-statistic is {}'.format(f_statistic))\n",
        "        print('Critical value is {}'.format(crit_value)) \n",
        "        if p_value < alpha:\n",
        "            print(\"Null hypothesis is rejected\")\n",
        "        else:\n",
        "            print(\"Null hypothesis has not been rejected\\n\")\n",
        "\n",
        "        print(tabulate([\n",
        "                    ['AxB', dof_ab, ssab, ssab/dof_ab, f_statistic],\n",
        "                    ['Within', dof_within, sse, sse/dof_within]],\n",
        "                    headers=['Source', 'degrees of freedom', 'SS', 'MS', 'F'], tablefmt='orgtbl'))\n",
        "    print(\"\\n/////////////////////////////////////////////////////////////////////////\\n\")\n",
        "\n",
        "print(\"/////////////////////////////////////////////////////////////////////////\")\n",
        "ANOVA2_test_equality(X, 0.05, \"A\")\n",
        "ANOVA2_test_equality(X, 0.05, \"B\")\n",
        "ANOVA2_test_equality(X, 0.05, \"AB\")"
      ],
      "execution_count": 14,
      "outputs": [
        {
          "output_type": "stream",
          "text": [
            "/////////////////////////////////////////////////////////////////////////\n",
            "P-value is 1.3002787735416632e-09\n",
            "f-statistic is 272.26829268292687\n",
            "Critical value is 4.747225346722511\n",
            "Null hypothesis is rejected\n",
            "| Source   |   degrees of freedom |      SS |         MS |       F |\n",
            "|----------+----------------------+---------+------------+---------|\n",
            "| A        |                    1 | 232.562 | 232.562    | 272.268 |\n",
            "| Within   |                   12 |  10.25  |   0.854167 |         |\n",
            "\n",
            "/////////////////////////////////////////////////////////////////////////\n",
            "\n",
            "P-value is 0.0115819925482612\n",
            "f-statistic is 8.853658536585366\n",
            "Critical value is 4.747225346722511\n",
            "Null hypothesis is rejected\n",
            "| Source   |   degrees of freedom |      SS |       MS |       F |\n",
            "|----------+----------------------+---------+----------+---------|\n",
            "| B        |                    1 |  7.5625 | 7.5625   | 8.85366 |\n",
            "| Within   |                   12 | 10.25   | 0.854167 |         |\n",
            "\n",
            "/////////////////////////////////////////////////////////////////////////\n",
            "\n",
            "P-value is 0.43287916783427727\n",
            "f-statistic is 0.6585365853658537\n",
            "Critical value is 4.747225346722511\n",
            "Null hypothesis has not been rejected\n",
            "\n",
            "| Source   |   degrees of freedom |      SS |       MS |        F |\n",
            "|----------+----------------------+---------+----------+----------|\n",
            "| AxB      |                    1 |  0.5625 | 0.5625   | 0.658537 |\n",
            "| Within   |                   12 | 10.25   | 0.854167 |          |\n",
            "\n",
            "/////////////////////////////////////////////////////////////////////////\n",
            "\n"
          ],
          "name": "stdout"
        }
      ]
    },
    {
      "cell_type": "markdown",
      "metadata": {
        "id": "11kY5y2iTRtZ"
      },
      "source": [
        "LINEAR REGRESSION\n"
      ]
    },
    {
      "cell_type": "code",
      "metadata": {
        "id": "mWkEqmnlTTYw",
        "colab": {
          "base_uri": "https://localhost:8080/"
        },
        "outputId": "15cf5dd0-7206-408d-e3e3-1a3b00b8324c"
      },
      "source": [
        "def Mult_LR_Least_squares(X, y):\n",
        "    # produces the maximum likelihood estimators for β and σ 2 as well as the unbiased estimate for σ\n",
        "    n = len(X)\n",
        "    k_plus_one = len(X[0])\n",
        "    beta = np.dot(np.dot(np.linalg.inv(np.dot(np.transpose(X),X)), np.transpose(X)), y)\n",
        "    squared_error = np.dot(np.transpose(y- np.dot(X, beta)), (y - np.dot(X,beta)))\n",
        "    s_sq_mle = squared_error / n\n",
        "    s_sq_unb = squared_error / (n - k_plus_one)\n",
        "    return beta, s_sq_mle, s_sq_unb\n",
        "\n",
        "# took the example from hw3\n",
        "X = [[1, 42.8, 40.0], [1, 63.5, 93.5], [1, 37.5, 35.5], [1, 39.5, 30.0], [1, 45.5, 52.0], [1, 38.5, 17.0], [1, 43.0, 38.5], [1, 22.5, 8.5], [1, 37.0, 33.0], [1, 23.5, 9.5], [1, 33.0, 21.0], [1, 58.0, 79.0]]\n",
        "y = [37.0, 49.5, 34.5, 36.0, 43.0, 28.0, 37.0, 20.0, 33.5, 30.5, 38.5, 47.0]\n",
        "X = np.array(X)\n",
        "y = np.array(y)\n",
        "print(Mult_LR_Least_squares(X,y))"
      ],
      "execution_count": 15,
      "outputs": [
        {
          "output_type": "stream",
          "text": [
            "(array([21.00839777,  0.19635663,  0.19082778]), 11.659419728755699, 15.545892971674265)\n"
          ],
          "name": "stdout"
        }
      ]
    },
    {
      "cell_type": "code",
      "metadata": {
        "id": "uxxdv5z4TlOT",
        "colab": {
          "base_uri": "https://localhost:8080/"
        },
        "outputId": "e1b49ca4-c9c3-41fd-f54d-d31433ae3869"
      },
      "source": [
        "def Mult_LR_partition_TSS(X, y):\n",
        "    # returns the total sum of squares, regression sum of squares, and residual sum of squares\n",
        "    n = len(X)\n",
        "    k_plus_one = len(X[0])\n",
        "    beta, _, _ = Mult_LR_Least_squares(X,y)\n",
        "    ybar = np.mean(y)\n",
        "    tss = reg_ss = rss = 0\n",
        "    for i in range(n):\n",
        "        truth = y[i]\n",
        "        est = np.dot(X[i], beta)\n",
        "        rss += (truth - est)**2\n",
        "        reg_ss += (est - ybar)**2\n",
        "        tss += (truth - ybar)**2\n",
        "    return tss, reg_ss, rss\n",
        "\n",
        "tss, reg_ss, rss = Mult_LR_partition_TSS(X,y)\n",
        "print(tss, reg_ss, rss, reg_ss+rss)\n"
      ],
      "execution_count": 16,
      "outputs": [
        {
          "output_type": "stream",
          "text": [
            "718.7291666666665 578.8161299215975 139.9130367450684 718.729166666666\n"
          ],
          "name": "stdout"
        }
      ]
    },
    {
      "cell_type": "code",
      "metadata": {
        "id": "QZxAUdKXUHqp",
        "colab": {
          "base_uri": "https://localhost:8080/"
        },
        "outputId": "caa724b6-9d62-413b-a745-f53ee1757d81"
      },
      "source": [
        "def Mult_norm_LR_simul_CI(X, y, alpha):\n",
        "    # produces confidence intervals for βi’s that simultaneously hold with probability 1 − α\n",
        "    n = len(X)\n",
        "    k_plus_one = len(X[0])\n",
        "    beta, _, se_sqrd = Mult_LR_Least_squares(X,y)\n",
        "    M = se_sqrd**(1/2) * (k_plus_one * stats.f.ppf(1-alpha, k_plus_one, n-k_plus_one))**(1/2)\n",
        "    inv_xt_x = np.linalg.inv(np.dot(np.transpose(X),X))\n",
        "    CI_for_all = []\n",
        "    # print(beta)\n",
        "    for i in range(k_plus_one):\n",
        "        margin = M * inv_xt_x[i][i]**(1/2)\n",
        "        CI = [beta[i] - margin, beta[i] + margin]\n",
        "        CI_for_all.append(CI)\n",
        "\n",
        "    return CI_for_all\n",
        "\n",
        "CI_for_all = Mult_norm_LR_simul_CI(X, y, 0.1)\n",
        "print(CI_for_all)\n"
      ],
      "execution_count": 17,
      "outputs": [
        {
          "output_type": "stream",
          "text": [
            "[[-4.413054294605068, 46.42984984366482], [-0.8511143664765652, 1.2438276311981367], [-0.28896120320521657, 0.6706167645312096]]\n"
          ],
          "name": "stdout"
        }
      ]
    },
    {
      "cell_type": "code",
      "metadata": {
        "id": "iI8ZZm7ZUZ7V",
        "colab": {
          "base_uri": "https://localhost:8080/"
        },
        "outputId": "4aa30c02-a056-4fc6-ccc9-d8d51e8e089d"
      },
      "source": [
        "def Mult_norm_LR_CR(X, y, C, alpha):\n",
        "    # returns the specifications (that is, parameters of the ellipsoid) of the 100(1 − α)% \n",
        "    # confidence region for Cβ according to the normal multiple linear regression model.\n",
        "    n = len(X)\n",
        "    k_plus_one = len(X[0])\n",
        "    beta, _, se_sqrd = Mult_LR_Least_squares(X,y)\n",
        "    r = len(C)\n",
        "    thold = r * se_sqrd * stats.f.ppf(1-alpha, r, n-k_plus_one)\n",
        "    inv_xt_x = np.linalg.inv(np.dot(np.transpose(X),X))\n",
        "    # print(np.dot(C, inv_xt_x))\n",
        "    inv_c_invxtx_c = np.linalg.inv(np.dot(np.dot(C, inv_xt_x), np.transpose(C)))\n",
        "    c_beta = np.dot(C, beta)\n",
        "    return c_beta, inv_c_invxtx_c, thold \n",
        "\n",
        "C = [[1, 0, 0], [0, 1, 0], [0, 0, 1]]\n",
        "# C = [[1, 0, 0]]\n",
        "\n",
        "Mult_norm_LR_CR(X, y, C, 0.1)"
      ],
      "execution_count": 18,
      "outputs": [
        {
          "output_type": "execute_result",
          "data": {
            "text/plain": [
              "(array([21.00839777,  0.19635663,  0.19082778]),\n",
              " array([[1.200000e+01, 4.843000e+02, 4.575000e+02],\n",
              "        [4.843000e+02, 2.111259e+04, 2.175200e+04],\n",
              "        [4.575000e+02, 2.175200e+04, 2.491125e+04]]),\n",
              " 131.18540129454095)"
            ]
          },
          "metadata": {
            "tags": []
          },
          "execution_count": 18
        }
      ]
    },
    {
      "cell_type": "code",
      "metadata": {
        "id": "i0Q76z38UvxF",
        "colab": {
          "base_uri": "https://localhost:8080/"
        },
        "outputId": "105e13e3-8526-4e69-d1a3-da17a259d6b8"
      },
      "source": [
        "def Mult_norm_LR_is_in_CR(X, y, C, c0, alpha, silent=False):\n",
        "    # answers whether c0 is in the 100(1 − α)% confidence region for Cβ according to the\n",
        "    # normal multiple linear regression model\n",
        "    c_beta, inv_c_invxtx_c, thold = Mult_norm_LR_CR(X, y, C, alpha)\n",
        "    print(c_beta - c0, inv_c_invxtx_c, thold)\n",
        "    if np.dot(np.dot(np.transpose(c_beta-c0), inv_c_invxtx_c), c_beta-c0) > thold:\n",
        "        if not silent:\n",
        "            print(\"c0 is not inside the confidence region\")\n",
        "        return False\n",
        "    else:\n",
        "        if not silent:\n",
        "            print(\"c0 is inside the confidence region\")\n",
        "        return True\n",
        "\n",
        "c0 = [21, 0.20, 0.20]\n",
        "Mult_norm_LR_is_in_CR(X,y,C,c0,0.1)"
      ],
      "execution_count": 19,
      "outputs": [
        {
          "output_type": "stream",
          "text": [
            "[ 0.00839777 -0.00364337 -0.00917222] [[1.200000e+01 4.843000e+02 4.575000e+02]\n",
            " [4.843000e+02 2.111259e+04 2.175200e+04]\n",
            " [4.575000e+02 2.175200e+04 2.491125e+04]] 131.18540129454095\n",
            "c0 is inside the confidence region\n"
          ],
          "name": "stdout"
        },
        {
          "output_type": "execute_result",
          "data": {
            "text/plain": [
              "True"
            ]
          },
          "metadata": {
            "tags": []
          },
          "execution_count": 19
        }
      ]
    },
    {
      "cell_type": "code",
      "metadata": {
        "id": "5E1lYkWzVHCC",
        "colab": {
          "base_uri": "https://localhost:8080/"
        },
        "outputId": "61cd701d-c4b1-4b59-a5b9-2df4af24a0c5"
      },
      "source": [
        "def Mult_norm_LR_test_general(X, y, C, c0, alpha):\n",
        "    # tests the null hypothesis H0 : Cβ = c0 vs H1 : Cβ 6= c0 at a significance level of α\n",
        "    res = Mult_norm_LR_is_in_CR(X, y, C, c0, alpha, True)\n",
        "    if res:\n",
        "        print(\"Do not reject H0\")\n",
        "    else:\n",
        "        print(\"Reject H0\")\n",
        "Mult_norm_LR_test_general(X,y,C,c0,0.1)"
      ],
      "execution_count": 20,
      "outputs": [
        {
          "output_type": "stream",
          "text": [
            "[ 0.00839777 -0.00364337 -0.00917222] [[1.200000e+01 4.843000e+02 4.575000e+02]\n",
            " [4.843000e+02 2.111259e+04 2.175200e+04]\n",
            " [4.575000e+02 2.175200e+04 2.491125e+04]] 131.18540129454095\n",
            "Do not reject H0\n"
          ],
          "name": "stdout"
        }
      ]
    },
    {
      "cell_type": "code",
      "metadata": {
        "id": "4tkhMSQFVWw-",
        "colab": {
          "base_uri": "https://localhost:8080/"
        },
        "outputId": "3ab7e315-51e1-4afd-bd83-41ce28ff606e"
      },
      "source": [
        "def Mult_norm_LR_test_comp(X, y, alpha, js, silent=False):\n",
        "    # returns the outcome of testing H0 : βj1 = . . . = βjr = 0 vs H1 : not H0\n",
        "    C = np.zeros(shape =(len(js),len(X[0])))\n",
        "    for i in range(len(js)):\n",
        "        C[i][js[i]]=1\n",
        "\n",
        "    c0 = [0] * len(js)\n",
        "\n",
        "    Mult_norm_LR_test_general(X,y,C,c0,alpha)\n",
        "    '''\n",
        "    idx = []\n",
        "    for i in range(len(X[0])):\n",
        "        if i not in js:\n",
        "            idx.append(i)\n",
        "    u_j = X[:,idx]\n",
        "\n",
        "    nof_zeros = len(js) - np.sum(js)\n",
        "    n = len(X)\n",
        "    k_plus_one = len(X[0])\n",
        "    tss, reg_ss, rss = Mult_LR_partition_TSS(X,y)\n",
        "    beta_j = np.dot(np.dot(np.linalg.inv(np.dot(np.transpose(u_j),u_j)), np.transpose(u_j)), y)\n",
        "    ybar = np.mean(y)\n",
        "    reg_ss_j = 0\n",
        "    for i in range(n):\n",
        "        est_j = np.dot(u_j[i], beta_j)\n",
        "        reg_ss_j += (est_j - ybar)**2\n",
        "    \n",
        "    reg_ss_residual = reg_ss - reg_ss_j\n",
        "    dof_reg_ss = len(js)\n",
        "    dof_rss = n - k_plus_one \n",
        "    f_statistic = (reg_ss_residual/dof_reg_ss) / (rss/dof_rss)\n",
        "    crit_val = stats.f.ppf(1-alpha, dof_reg_ss, dof_rss)\n",
        "\n",
        "    if f_statistic > crit_val:\n",
        "        if not silent:\n",
        "            print(\"We reject H0, (Bj1... Bjr are significant)\")\n",
        "        return False\n",
        "    else:\n",
        "        if not silent:\n",
        "                print(\"We do not reject H0, (Bj1... Bjr are insignificant)\")\n",
        "        return True\n",
        "\n",
        "'''\n",
        "\n",
        "js = [2]\n",
        "Mult_norm_LR_test_comp(X, y, 0.1, js)"
      ],
      "execution_count": 21,
      "outputs": [
        {
          "output_type": "stream",
          "text": [
            "[0.19082778] [[569.88203146]] 52.23891116150051\n",
            "Do not reject H0\n"
          ],
          "name": "stdout"
        }
      ]
    },
    {
      "cell_type": "code",
      "metadata": {
        "id": "kSstGdkQVlvS",
        "colab": {
          "base_uri": "https://localhost:8080/"
        },
        "outputId": "f3adf3dd-ae5e-4e41-dc3f-fec993da913a"
      },
      "source": [
        "def Mult_norm_LR_test_linear_reg(X, y, alpha, silent=False):\n",
        "    # returns the outcome of testing the existence of linear regression\n",
        "    # at all, i.e., H0 : β1 = . . . = βk = 0 vs H1 : not H0\n",
        "    tss, reg_ss, rss = Mult_LR_partition_TSS(X, y)\n",
        "    n = len(X)\n",
        "    k_plus_one = len(X[0])\n",
        "    beta, _, se_sqrd = Mult_LR_Least_squares(X,y)\n",
        "\n",
        "    f_statistic = (reg_ss / (k_plus_one - 1)) / (rss/(n - k_plus_one))\n",
        "    t_hold = stats.f.ppf(1-alpha, k_plus_one - 1, n-k_plus_one)\n",
        "    if f_statistic > t_hold:\n",
        "        if not silent:\n",
        "            print(\"We reject H0, (there is a linear regression, beta is significant)\")\n",
        "        return False\n",
        "    else:\n",
        "        if not silent:\n",
        "            print(\"We do not reject H0, (there is not a linear regression at all, beta is insignificant)\")\n",
        "        return True\n",
        "\n",
        "Mult_norm_LR_test_linear_reg(X, y, 0.1)"
      ],
      "execution_count": 22,
      "outputs": [
        {
          "output_type": "stream",
          "text": [
            "We reject H0, (there is a linear regression, beta is significant)\n"
          ],
          "name": "stdout"
        },
        {
          "output_type": "execute_result",
          "data": {
            "text/plain": [
              "False"
            ]
          },
          "metadata": {
            "tags": []
          },
          "execution_count": 22
        }
      ]
    },
    {
      "cell_type": "code",
      "metadata": {
        "id": "UAyFVJlAWGyV",
        "colab": {
          "base_uri": "https://localhost:8080/"
        },
        "outputId": "c21189c1-54e2-4b84-e010-1f389e93fa83"
      },
      "source": [
        "def Mult_norm_LR_pred_CI(X, y, D, alpha, method):\n",
        "    # returns simultaneous confidence bounds for diβ for all i = 1, . . . , m \n",
        "    # according to the normal multiple linear regression model\n",
        "    n = len(X)\n",
        "    k_plus_one = len(X[0])\n",
        "    beta, _, se_sqrd = Mult_LR_Least_squares(X, y)\n",
        "    M = se_sqrd**(1/2) * (k_plus_one * stats.f.ppf(1-alpha, k_plus_one, n-k_plus_one))**(1/2)\n",
        "    inv_xt_x = np.linalg.inv(np.dot(np.transpose(X),X))\n",
        "\n",
        "\n",
        "    if method == \"scheffe\":\n",
        "        CIs= []\n",
        "        for d in D:\n",
        "            est = np.dot(d, beta)\n",
        "            margin = np.dot(np.dot(np.transpose(d), inv_xt_x), d)**(1/2) * M\n",
        "            CIs.append([est-margin, est+margin])\n",
        "        return CIs\n",
        "\n",
        "    elif method == \"bonferroni\":\n",
        "        CIs = []\n",
        "        CIs_for_beta = []\n",
        "        bonf_alpha = Bonferroni_correction(alpha, len(D)) #alpha / len(D)\n",
        "        for i in range(k_plus_one):\n",
        "            margin = stats.t.ppf(1-bonf_alpha/2, n-k_plus_one) * se_sqrd**(1/2) * inv_xt_x[i][i]**(1/2)\n",
        "            CI = [beta[i] - margin, beta[i] + margin]\n",
        "            CIs_for_beta.append(CI)\n",
        "        CIs_for_beta = np.array(CIs_for_beta)\n",
        "        # print(CIs_for_beta)\n",
        "        # CIs_for_beta = np.array(Mult_norm_LR_simul_CI(X,y,alpha)) # .reshape((3,2))\n",
        "        # print(CIs_for_beta)\n",
        "        beta_low = CIs_for_beta[:,0]\n",
        "        beta_high = CIs_for_beta[:,1]\n",
        "        for d in D:\n",
        "            est_low = np.dot(d, beta_low)\n",
        "            est_high = np.dot(d, beta_high)\n",
        "            CIs.append([est_low, est_high])\n",
        "        return CIs\n",
        "\n",
        "    elif method == \"best\":\n",
        "        CIs = []\n",
        "        CIs_bonf = Mult_norm_LR_pred_CI(X, y, D, alpha, \"bonferroni\")\n",
        "        CIs_schf = Mult_norm_LR_pred_CI(X, y, D, alpha, \"scheffe\")\n",
        "        for i in range(len(D)):\n",
        "            bnf = CIs_bonf[i]\n",
        "            schf = CIs_schf[i]\n",
        "            if (schf[1] - schf[0]) < (bnf[1] - bnf[0]):\n",
        "                CIs.append(schf)\n",
        "            else:\n",
        "                CIs.append(bnf)\n",
        "        return CIs\n",
        "\n",
        "m = 2\n",
        "# D = np.random.randint(90, size=(m, 3))\n",
        "D= np.array([[84, 23, 53],\n",
        " [18, 67, 87]])\n",
        "D[:,0] = 1 # to make first column 1\n",
        "print(D)\n",
        "\n",
        "print(Mult_norm_LR_pred_CI(X, y, D, 0.1, \"bonferroni\"))\n",
        "print(Mult_norm_LR_pred_CI(X, y, D, 0.1, \"scheffe\"))\n",
        "print(Mult_norm_LR_pred_CI(X, y, D, 0.1, \"best\"))\n",
        "\n"
      ],
      "execution_count": 23,
      "outputs": [
        {
          "output_type": "stream",
          "text": [
            "[[ 1 23 53]\n",
            " [ 1 67 87]]\n",
            "[[-22.721317539727057, 93.99826292766058], [-56.18754613228031, 157.72016425304676]]\n",
            "[[10.302781502063901, 60.97416388586962], [41.726703170347534, 59.80591495041891]]\n",
            "[[10.302781502063901, 60.97416388586962], [41.726703170347534, 59.80591495041891]]\n"
          ],
          "name": "stdout"
        }
      ]
    },
    {
      "cell_type": "code",
      "metadata": {
        "id": "65yesHodQWke"
      },
      "source": [
        ""
      ],
      "execution_count": null,
      "outputs": []
    }
  ]
}